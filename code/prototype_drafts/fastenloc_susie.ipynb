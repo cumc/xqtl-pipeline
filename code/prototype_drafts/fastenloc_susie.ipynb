{
 "cells": [
  {
   "cell_type": "markdown",
   "metadata": {
    "kernel": "SoS",
    "tags": []
   },
   "source": [
    "\n",
    "\n",
    "\n",
    "\n",
    "\n",
    "# fastENLOC from SuSiE objects"
   ]
  },
  {
   "cell_type": "markdown",
   "metadata": {
    "kernel": "SoS"
   },
   "source": [
    "[fastENLOC](https://github.com/xqwen/fastenloc) enables integrative genetic association analysis of molecular QTL data and GWAS data. "
   ]
  },
  {
   "cell_type": "markdown",
   "metadata": {
    "kernel": "SoS"
   },
   "source": [
    "### NOTE:\n",
    "Before running this pipeline, please ensure you have upgraded SOS to version 0.24.0 or higher, otherwise you will not be able to successfully call our new container."
   ]
  },
  {
   "cell_type": "markdown",
   "metadata": {
    "kernel": "SoS"
   },
   "source": [
    "## Overview\n",
    "\n",
    "The goal of this module is to perform fastENLOC analysis from SuSiE objects, including:\n",
    "1. Conversion of SuSie eQTL Objects to DAP-G VCF Format\n",
    "2. Run fastENLOC with the converted outputs from step1 \n"
   ]
  },
  {
   "cell_type": "markdown",
   "metadata": {
    "kernel": "SoS",
    "tags": []
   },
   "source": [
    "## Input\n",
    "\n",
    "1. QTL susie table：\n",
    "    - This table has two columns for `molecular_trait_id` and `susie_file`: target gene and corresponding susie output rds respectively.\n",
    "2. GWAS susie table: \n",
    "    - This table has two columns for `ld_block` and `susie_object_file`: LD block and corresponding susie output rds respectively.\n"
   ]
  },
  {
   "cell_type": "markdown",
   "metadata": {
    "jp-MarkdownHeadingCollapsed": true,
    "kernel": "SoS",
    "tags": []
   },
   "source": [
    "### NOTE2: \n",
    "Prepare for inputs:   \n",
    "we should add those codes in the final step of fine-mapping, below is the example for grab gene name from eQTL and GWAS fine mapped results, which could be different from different QTL data. It would be easier if we generate that table from upstream\n",
    "\n",
    "- 1. QTL susie table:\n",
    "```\n",
    "import os\n",
    "import pandas as pd\n",
    "\n",
    "path = \"/mnt/vast/hpc/csg/rf2872/Work/INTACT/DLPFC/padding/output/eQTL\"\n",
    "\n",
    "filenames = []\n",
    "filepaths = []\n",
    "\n",
    "for file in os.listdir(path):\n",
    "    if file.endswith(\".rds\"):\n",
    "        middle_name = file.split('.')[2] # \n",
    "        filenames.append(middle_name)\n",
    "        full_path = os.path.join(path, file)\n",
    "        filepaths.append(full_path)\n",
    "\n",
    "df = pd.DataFrame({\n",
    "    'molecular_trait_id': filenames,\n",
    "    'susie_file': filepaths\n",
    "})\n",
    "\n",
    "# Save the DataFrame as a tab-delimited text file\n",
    "df.to_csv('eqtl_susie_table.txt', sep='\\t', index=False)\n",
    "```\n",
    "\n",
    "\n",
    "- 2. ADWAS susie table: \n",
    "\n",
    "```\n",
    "import os\n",
    "import pandas as pd\n",
    "\n",
    "path = \"/mnt/vast/hpc/csg/rf2872/Work/INTACT/DLPFC/padding/output/GWAS\"\n",
    "\n",
    "filenames = []\n",
    "filepaths = []\n",
    "\n",
    "for file in os.listdir(path):\n",
    "    if file.endswith(\".rds\"):\n",
    "        middle_name = file.split('.')[2] # \n",
    "        filenames.append(middle_name)\n",
    "        full_path = os.path.join(path, file)\n",
    "        filepaths.append(full_path)\n",
    "\n",
    "df = pd.DataFrame({\n",
    "    'ld_block': filenames,\n",
    "    'susie_object_file': filepaths\n",
    "})\n",
    "\n",
    "df.to_csv('ADGWAS_susie_table.txt', sep='\\t', index=False)\n",
    "```"
   ]
  },
  {
   "cell_type": "markdown",
   "metadata": {
    "kernel": "SoS"
   },
   "source": [
    "## Output\n",
    "1. re-formatted eQTL finemapped results from step `susie_to_dapg`\n",
    "2. re-formatted GWAS finemapped results from step `fastenloc`\n",
    "3. fastENLOC results from eQTL finemapped results and GWAS finemapped results.\n",
    "    "
   ]
  },
  {
   "cell_type": "markdown",
   "metadata": {
    "kernel": "SoS"
   },
   "source": [
    "### Explanation of the fast results"
   ]
  },
  {
   "cell_type": "markdown",
   "metadata": {
    "kernel": "SoS"
   },
   "source": [
    "1) Enrichment analysis result `prefix.enloc.enrich.rst`: estimated enrichment parameters and standard errors.\n",
    "\n",
    "2) Signal-level colocalization result `prefix.enloc.sig.out`: the main output from the colocalization analysis wi th the following format\n",
    "- column 1: signal cluster name (from eQTL analysis)\n",
    "- column 2: number of member SNPs\n",
    "- column 3: cluster PIP of eQTLs\n",
    "- column 4: cluster PIP of GWAS hits (without eQTL prior)\n",
    "- column 5: cluster PIP of GWAS hits (with eQTL prior)\n",
    "- column 6: regional colocalization probability (RCP)\n",
    "\n",
    "3) SNP-level colocalization result `prefix.enloc.snp.out`: SNP-level colocalization output with the following form at\n",
    "- column 1: signal cluster name\n",
    "- column 2: SNP name\n",
    "- column 3: SNP-level PIP of eQTLs\n",
    "- column 4: SNP-level PIP of GWAS (without eQTL prior)\n",
    "- column 5: SNP-level PIP of GWAS (with eQTL prior)\n",
    "- column 6: SNP-level colocalization probability\n",
    "\n",
    "4) Sorted list of colocalization signals with  \n",
    "\n",
    "  ```sort -grk6 prefix.enloc.sig.out ```"
   ]
  },
  {
   "cell_type": "markdown",
   "metadata": {
    "kernel": "SoS"
   },
   "source": [
    "# Example\n",
    "We now run an example of this using the vcf file generated from the sample of susie eQTLs."
   ]
  },
  {
   "cell_type": "code",
   "execution_count": null,
   "metadata": {
    "kernel": "SoS"
   },
   "outputs": [],
   "source": [
    "cd /mnt/vast/hpc/csg/rf2872/Work/INTACT/DLPFC\n",
    "\n",
    "sos run pipeline/fastenloc.ipynb susie_to_dapg \\\n",
    "    --susie-table eqtl_susie_table.txt  \\\n",
    "    --tissue DLPFC  -J 50 -c ~/test/csg.yml -q csg --job_size 1 -s build"
   ]
  },
  {
   "cell_type": "code",
   "execution_count": null,
   "metadata": {
    "kernel": "SoS"
   },
   "outputs": [],
   "source": [
    "sos run pipeline/fastenloc.ipynb fastenloc  \\\n",
    "    --file-table ADGWAS_susie_table.txt   \\\n",
    "    --qtl_vcf output/fastenloc/eQTL.susie_to_DAPG.vcf.gz \\\n",
    "    --out-pre eQTL_ADGWAS \\\n",
    "    --tissue DLPFC \\\n",
    "    --container /mnt/mfs/hgrcgrid/homes/zq2209/output8/fastenloc/fastenloc.sif \\\n",
    "   -J 50 -c ~/test/csg.yml -q csg --job_size 1 -s build --cwd  output/fastenloc --mem 80G"
   ]
  },
  {
   "cell_type": "code",
   "execution_count": null,
   "metadata": {
    "kernel": "SoS"
   },
   "outputs": [],
   "source": []
  },
  {
   "cell_type": "code",
   "execution_count": 1,
   "metadata": {
    "kernel": "SoS"
   },
   "outputs": [],
   "source": [
    "[global]\n",
    "# Workdir\n",
    "parameter: cwd = path(\"output\")\n",
    "# susie_table is the table of eQTL fine mapped results, which has two columns for gene and susie_fils\n",
    "parameter: susie_table = \"\"\n",
    "# This vcf is derived from the conversion of the susie rds for each gene, with the relevant information noted in the INFO column.\n",
    "#parameter: out_vcf = \"\"\n",
    "# file_table is the table of GWAS fine mapped results, which has two columns for LD blocks and susie_fils\n",
    "parameter: file_table = \"\"\n",
    "# out_file is a temporary file in the environment\n",
    "parameter: out_file = \"\"\n",
    "# the prefix of fastENLOC output \n",
    "parameter: out_pre = \"\"\n",
    "# the zipped file of out_vcf, which is derived from the conversion of the susie rds for each gene\n",
    "parameter: qtl_vcf = \"\"\n",
    "# dataset \n",
    "parameter: tissue = ''\n",
    "# QTL data type\n",
    "parameter: QTL = 'eQTL'\n",
    "# GWAS data type\n",
    "parameter: GWAS = 'GWAS'\n",
    "parameter: container = ''\n",
    "import re\n",
    "parameter: entrypoint= ('micromamba run -a \"\" -n' + ' ' + re.sub(r'(_apptainer:latest|_docker:latest|\\.sif)$', '', container.split('/')[-1])) if container else \"\"\n",
    "parameter: job_size = 1\n",
    "parameter: walltime = \"5h\"\n",
    "parameter: mem = \"8G\"\n",
    "parameter: numThreads = 1\n",
    "\n",
    "qtl_vcf = file_target(f\"{cwd:a}/{QTL}.susie_to_DAPG.vcf.gz\")\n",
    "import os\n",
    "if not os.path.exists(f'{cwd}/cache/'):\n",
    "    os.makedirs(f'{cwd}/cache/')"
   ]
  },
  {
   "cell_type": "markdown",
   "metadata": {
    "kernel": "SoS"
   },
   "source": [
    "# Conversion of SuSiE eQTL Objects to DAP-G VCF Format\n",
    "In order to properly run fastENLOC we need to first convert eQTL results from each gene in a specific tissue into a VCF object with relevant information in the INFO column. To do this we need to start with a table of each gene and its corresponding eQTL susie file as the input.\n",
    "\n",
    "It should be formatted like the file below"
   ]
  },
  {
   "cell_type": "code",
   "execution_count": 17,
   "metadata": {
    "kernel": "Bash"
   },
   "outputs": [
    {
     "name": "stdout",
     "output_type": "stream",
     "text": [
      "molecular_trait_id\tsusie_file\n",
      "ENSG00000000419\t/mnt/vast/hpc/csg/molecular_phenotype_calling/eqtl/output/susie_per_gene_tad/cache/demo.ENSG00000000419.unisusie.fit.rds\n",
      "ENSG00000000457\t/mnt/vast/hpc/csg/molecular_phenotype_calling/eqtl/output/susie_per_gene_tad/cache/demo.ENSG00000000457.unisusie.fit.rds\n",
      "ENSG00000000938\t/mnt/vast/hpc/csg/molecular_phenotype_calling/eqtl/output/susie_per_gene_tad/cache/demo.ENSG00000000938.unisusie.fit.rds\n",
      "ENSG00000000971\t/mnt/vast/hpc/csg/molecular_phenotype_calling/eqtl/output/susie_per_gene_tad/cache/demo.ENSG00000000971.unisusie.fit.rds\n"
     ]
    }
   ],
   "source": [
    "head -n5 eqtl_susie_table_head300.txt"
   ]
  },
  {
   "cell_type": "code",
   "execution_count": null,
   "metadata": {
    "kernel": "SoS"
   },
   "outputs": [],
   "source": [
    "[susie_to_dapg_1]\n",
    "import pandas as pd\n",
    "df = pd.read_csv(susie_table)\n",
    "file_paths = []\n",
    "for i, group in df.groupby(df.index // 100):\n",
    "    output_file_path = f'{cwd}/cache/{QTL}.chunk_{i}.csv'\n",
    "    group.to_csv(output_file_path, index=False)\n",
    "    file_paths.append(output_file_path)  \n",
    "input: file_paths, group_by = 1\n",
    "output: f'{cwd}/fastenloc/cache/{_input:bn}.vcf'\n",
    "task: trunk_workers = 1, trunk_size = job_size, walltime = walltime, mem = mem, cores = numThreads, tags = f'{step_name}_{_output:bn}'\n",
    "R: expand= \"${ }\", stderr = f'{_output:nn}.stderr', stdout = f'{_output:nn}.stdout'\n",
    "    library(susieR)\n",
    "    library(stringr)\n",
    "    \n",
    "    susie_tbl = read.csv(\"${_input}\", sep = \"\\t\")\n",
    "    susie_files = susie_tbl$susie_file\n",
    "    genes = susie_tbl$molecular_trait_id\n",
    "    tissue = \"${tissue}\"\n",
    "\n",
    "    vcf_out = data.frame(chr=NULL, pos=NULL, var_id=NULL, ref = NULL, alt = NULL, info=NULL)\n",
    "    for(i in seq(1, length(genes))) {\n",
    "      gene = genes[i]\n",
    "      ssie_obj = readRDS(susie_files[i])\n",
    "      # now we get the credible set level values\n",
    "      # get the average PIP for each of the credible sets\n",
    "      sums_cs_pip = lapply(ssie_obj$sets$cs, function(set) sum(ssie_obj$pip[set]))\n",
    "      # get length of each of the credible sets\n",
    "      lengths_cs = lengths(ssie_obj$sets$cs)\n",
    "      for(i_var in seq(1, length(ssie_obj$variable_name))) {\n",
    "        #var_id = str_replace_all(ssie_obj$variable_name[i_var], \":\", \"_\")\n",
    "        var_id = ssie_obj$variable_name[i_var]\n",
    "        chr = strsplit(var_id, \"[:|_]\")[[1]][1]\n",
    "        pos = strsplit(var_id, \"[:|_]\")[[1]][2]\n",
    "        ref = strsplit(var_id, \"[:|_]\")[[1]][3]\n",
    "        alt = strsplit(var_id, \"[:|_]\")[[1]][4]\n",
    "        pip = ssie_obj$pip[i_var]\n",
    "        cs_id = -1\n",
    "        cs_ids = -1\n",
    "        if (i_var %in% unlist(ssie_obj$sets$cs)) {  #need to clean up ``\n",
    "          cs_ids = names(ssie_obj$sets$cs)[sapply(ssie_obj$sets$cs, function(set) i_var %in% set)]\n",
    "          cs_ids = as.integer(str_remove(cs_ids, \"L\"))\n",
    "        }\n",
    "        # ignore if not in a credible set\n",
    "        if (any(cs_ids == -1)) {\n",
    "          #print(\"next\")\n",
    "          next()\n",
    "        }\n",
    "        # ignore if pip is below a threshold\n",
    "        if(pip < 1e-04) {\n",
    "          next()\n",
    "        }\n",
    "        for (cs_id in cs_ids) {\n",
    "            sums_values <- format(sums_cs_pip[[paste0(\"L\", cs_id)]], scientific = T)\n",
    "            lengths_values <- format(lengths_cs[[paste0(\"L\", cs_id)]], scientific = T)\n",
    "            info = paste0(gene, \":\", cs_id, \"@\", tissue, \"=\", format(pip, scientific = T), \"[\", \n",
    "                          sums_values, \":\",  lengths_cs[[paste0(\"L\", cs_id)]], \"]\")\n",
    "            df = data.frame(chr=chr, pos=pos, var_id=var_id, ref = ref, alt = alt, info=info)\n",
    "            vcf_out <- rbind(vcf_out, df)\n",
    "        }\n",
    "      }\n",
    "    }\n",
    "    write.table(vcf_out, \"${_output}\", sep =\"\\t\", quote = F, row.names = F, col.names = F)"
   ]
  },
  {
   "cell_type": "code",
   "execution_count": null,
   "metadata": {
    "kernel": "SoS"
   },
   "outputs": [],
   "source": [
    "[susie_to_dapg_2]\n",
    "input:  group_by = 'all'\n",
    "output: f'{cwd:a}/fastenloc/{QTL}.susie_to_DAPG.vcf_tmp'\n",
    "bash: expand= \"${ }\", stderr = f'{_output:nn}.stderr', stdout = f'{_output:nn}.stdout'\n",
    "    cd ${cwd}/fastenloc/cache\n",
    "    #module load BCFTOOLS\n",
    "    #bcftools merge *.vcf -O v -o merged.vcf\n",
    "    # incase we don't want to rebuild the container to add BCFTOOLS, I'd like to use `cat` here since we don't have header in the vcf file\n",
    "    cat ${QTL}.*.vcf >> ${_output}\n",
    "    #cd ../ && rm -r cache/\n"
   ]
  },
  {
   "cell_type": "code",
   "execution_count": null,
   "metadata": {
    "kernel": "SoS"
   },
   "outputs": [],
   "source": [
    "[susie_to_dapg_3]\n",
    "input: group_by = 1\n",
    "output: prior_data = f'{cwd:a}/fastenloc/{QTL}.susie_to_DAPG.vcf.gz'\n",
    "task: trunk_workers = 1, trunk_size = job_size, walltime = walltime, mem = mem, cores = numThreads, tags = f'{step_name}_{_output:bn}'\n",
    "python3: expand= \"${ }\", stderr = f'{_output:nn}.stderr', stdout = f'{_output:nn}.stdout'\n",
    "    f = open(\"${_input}\")\n",
    "    f_out = open(\"${_output:n}\", \"w+\")\n",
    "    info_map = {}\n",
    "    for line in f:\n",
    "        elems = line.split(\"\\t\")\n",
    "        elems[-1] = elems[-1].strip()\n",
    "        var_idx = elems[2]\n",
    "        try:\n",
    "            info_map[var_idx] = info_map[var_idx] + [elems[-1]]\n",
    "        except KeyError:\n",
    "            info_map[var_idx] = [elems[-1]]\n",
    "    for var_idx, infos in info_map.items():\n",
    "        chrm, pos, ref, alt = var_idx.replace(\":\", \"_\").split(\"_\")\n",
    "        info = \"|\".join(infos)\n",
    "        f_out.write(\"\\t\".join([chrm, pos, var_idx, ref, alt, info]) + \"\\n\")\n",
    "    f_out.close()\n",
    "    f.close()\n",
    "bash: expand= \"${ }\", stderr = f'{_output:nn}.stderr', stdout = f'{_output:nn}.stdout'\n",
    "    gzip -f ${_output:n}\n",
    "    rm ${_input}"
   ]
  },
  {
   "cell_type": "markdown",
   "metadata": {
    "kernel": "SoS"
   },
   "source": [
    "**output_1**: re-formatted eQTL finemapped results from `susie_to_dapg`"
   ]
  },
  {
   "cell_type": "code",
   "execution_count": 19,
   "metadata": {
    "kernel": "Bash"
   },
   "outputs": [
    {
     "name": "stdout",
     "output_type": "stream",
     "text": [
      "chr1\t169880000\tchr1_169880000_A_G\tA\tG\tENSG00000000457:1@DLPFC=2.018637e-02:[1.02222e-02:93]\n",
      "chr1\t169880330\tchr1_169880330_A_T\tA\tT\tENSG00000000457:1@DLPFC=2.018637e-02:[1.02222e-02:93]\n",
      "chr1\t169880762\tchr1_169880762_CTT_CT\tCTT\tCT\tENSG00000000457:1@DLPFC=8.174311e-02:[1.02222e-02:93]\n",
      "chr1\t169880823\tchr1_169880823_G_A\tG\tA\tENSG00000000457:1@DLPFC=2.018637e-02:[1.02222e-02:93]\n",
      "chr1\t169880877\tchr1_169880877_T_C\tT\tC\tENSG00000000457:1@DLPFC=2.018637e-02:[1.02222e-02:93]\n",
      "\n",
      "gzip: stdout: Broken pipe\n"
     ]
    }
   ],
   "source": [
    "zcat output/eQTL.susie_to_DAPG.vcf.gz | head -n5"
   ]
  },
  {
   "cell_type": "markdown",
   "metadata": {
    "kernel": "SoS"
   },
   "source": [
    "# fastENLOC from SuSiE objects"
   ]
  },
  {
   "cell_type": "markdown",
   "metadata": {
    "kernel": "Markdown"
   },
   "source": [
    "The first input for the pipeline is a table listing the `SuSiE` objects for each of the LD Blocks. This takes the form of one column with the name of the LD block and another with the path to the object file."
   ]
  },
  {
   "cell_type": "code",
   "execution_count": 18,
   "metadata": {
    "kernel": "Bash"
   },
   "outputs": [
    {
     "name": "stdout",
     "output_type": "stream",
     "text": [
      "ld_block\tsusie_object_file\n",
      "chr17_1013206_2799513\t/mnt/vast/hpc/csg/xqtl_workflow_testing/susie_rss/output/ADGWAS2022.chr17.sumstat.chr17_1013206_2799513.unisusie_rss.fit.rds\n",
      "chr17_10670471_12764265\t/mnt/vast/hpc/csg/xqtl_workflow_testing/susie_rss/output/ADGWAS2022.chr17.sumstat.chr17_10670471_12764265.unisusie_rss.fit.rds\n",
      "chr17_120360_1013206\t/mnt/vast/hpc/csg/xqtl_workflow_testing/susie_rss/output/ADGWAS2022.chr17.sumstat.chr17_120360_1013206.unisusie_rss.fit.rds\n",
      "chr17_12764265_13625781\t/mnt/vast/hpc/csg/xqtl_workflow_testing/susie_rss/output/ADGWAS2022.chr17.sumstat.chr17_12764265_13625781.unisusie_rss.fit.rds\n"
     ]
    }
   ],
   "source": [
    "head -n5 ADGWAS_susie_table.txt"
   ]
  },
  {
   "cell_type": "markdown",
   "metadata": {
    "kernel": "SoS"
   },
   "source": [
    "In the first step we convert the susie objects into one table for use with fastENLOC."
   ]
  },
  {
   "cell_type": "markdown",
   "metadata": {
    "kernel": "SoS"
   },
   "source": [
    "And then run fastenloc on that table"
   ]
  },
  {
   "cell_type": "code",
   "execution_count": 2,
   "metadata": {
    "kernel": "SoS"
   },
   "outputs": [],
   "source": [
    "[fastenloc_1]\n",
    "import pandas as pd\n",
    "df = pd.read_csv(file_table)\n",
    "file_paths = []\n",
    "for i, group in df.groupby(df.index // 100):\n",
    "    output_file_path = f'{cwd:a}/cache/{GWAS}.chunk_{i}.csv'\n",
    "    group.to_csv(output_file_path, index=False)\n",
    "    file_paths.append(output_file_path)  \n",
    "input: file_paths, group_by=1\n",
    "output: f'{cwd:a}/cache/{_input:bn}.vcf'\n",
    "task: trunk_workers = 1, trunk_size = job_size, walltime = walltime, mem = mem, cores = numThreads, tags = f'{step_name}_{_output:bn}'\n",
    "R: expand= \"${ }\", stderr = f'{_output:nn}.stderr', stdout = f'{_output:nn}.stdout'\n",
    "  susie_tbl = read.csv('${_input}', sep = \"\\t\")\n",
    "  out_tbl = list()\n",
    "  out_tbl$var = c()\n",
    "  out_tbl$pip = c()\n",
    "  out_tbl$set = c()\n",
    "  for(idx in seq(1,nrow(susie_tbl))) {\n",
    "    ld_block = susie_tbl[[1]][idx]\n",
    "    filename = susie_tbl[[2]][idx]\n",
    "    ssie = readRDS(filename)\n",
    "    vars = ssie$variable_name\n",
    "    out_tbl$var = c(out_tbl$var, vars)\n",
    "    out_tbl$set = c(out_tbl$set, rep(ld_block, length(vars)))\n",
    "    pip = ssie$pip\n",
    "    out_tbl$pip = c(out_tbl$pip, pip)\n",
    "  }\n",
    "  out_tbl = as.data.frame(out_tbl)\n",
    "  #out_tbl$var = paste0(out_tbl$var, \"_b38\")\n",
    "  write.table(out_tbl, \"${_output}\", sep = \"\\t\", quote = F, row.names = F, col.names = F)\n"
   ]
  },
  {
   "cell_type": "code",
   "execution_count": 3,
   "metadata": {
    "kernel": "SoS"
   },
   "outputs": [],
   "source": [
    "[fastenloc_2]\n",
    "input:  group_by = 'all'\n",
    "output: f'{cwd:a}/{GWAS}.susie_to_DAPG.vcf.gz'\n",
    "bash: expand= \"${ }\", stderr = f'{_output:nn}.stderr', stdout = f'{_output:nn}.stdout'\n",
    "    cd ${cwd:a}/cache\n",
    "    #module load BCFTOOLS\n",
    "    #bcftools merge *.vcf -O v -o merged.vcf\n",
    "    # incase we don't want to rebuild the container to add BCFTOOLS, I'd like to use cat here since we don't have header in the vcf file\n",
    "    cat ${GWAS}.*.vcf >> ${_output:n}\n",
    "    gzip -f ${_output:n}\n",
    "    #rm -r ${cwd:a}/cache\n"
   ]
  },
  {
   "cell_type": "code",
   "execution_count": 3,
   "metadata": {
    "kernel": "SoS"
   },
   "outputs": [],
   "source": [
    "[fastenloc_3]\n",
    "input: group_by=1\n",
    "output: enrich_out = f'{cwd}/{out_pre}.enloc.enrich.out',\n",
    "        gene_out = f'{cwd}/{out_pre}.enloc.gene.out',\n",
    "        snp_out = f'{cwd}/{out_pre}.enloc.snp.out',\n",
    "        sig_out = f'{cwd}/{out_pre}.enloc.sig.out'\n",
    "task: trunk_workers = 1, trunk_size = job_size, walltime = walltime, mem = mem, cores = numThreads, tags = f'{step_name}_{_output:bn}'\n",
    "bash: expand=\"${ }\", stderr = f'{out_pre.split(\"/\")[-1]}_enloc.stderr', stdout = f'{out_pre.split(\"/\")[-1]}_enloc.stdout', container = container, entrypoint = entrypoint\n",
    "    fastenloc -eqtl ${qtl_vcf} -gwas ${_input} -t ${tissue} -prefix ${cwd}/${out_pre} # fix it after the new version of the fastenloc container"
   ]
  },
  {
   "cell_type": "markdown",
   "metadata": {
    "kernel": "SoS"
   },
   "source": [
    "**output2**: re-formatted GWAS finemapped results from `fastenloc`"
   ]
  },
  {
   "cell_type": "code",
   "execution_count": 23,
   "metadata": {
    "kernel": "Bash",
    "tags": []
   },
   "outputs": [
    {
     "name": "stdout",
     "output_type": "stream",
     "text": [
      "chr17_1013206_G_A_b38\tchr17_1013206_2799513\t0.000744869767935419\n",
      "chr17_1013226_C_T_b38\tchr17_1013206_2799513\t0.000943722701734817\n",
      "chr17_1013285_G_A_b38\tchr17_1013206_2799513\t0.00121844744384469\n",
      "chr17_1013417_C_T_b38\tchr17_1013206_2799513\t0.00588273046469134\n",
      "chr17_1013425_G_A_b38\tchr17_1013206_2799513\t0.000875241390920545\n",
      "\n",
      "gzip: stdout: Broken pipe\n"
     ]
    }
   ],
   "source": [
    "zcat output/GWAS.susie_to_DAPG.vcf.gz | head -n5"
   ]
  },
  {
   "cell_type": "markdown",
   "metadata": {
    "kernel": "Bash"
   },
   "source": [
    "**output 3**: fastenloc results\n",
    "\n",
    "**The example of output is from Tosin**:"
   ]
  },
  {
   "cell_type": "markdown",
   "metadata": {
    "kernel": "Bash"
   },
   "source": [
    "Information on the fastENLOC outputs can be found [here](https://github.com/xqwen/fastenloc/blob/master/tutorial/README.md). "
   ]
  },
  {
   "cell_type": "code",
   "execution_count": 6,
   "metadata": {
    "kernel": "Bash"
   },
   "outputs": [
    {
     "name": "stdout",
     "output_type": "stream",
     "text": [
      "==> /restricted/projectnb/casa/oaolayin/fastenloc_test/kunkle_DLPFC.enloc.enrich.out <==\n",
      "                Intercept    -7.802           -\n",
      "Enrichment (no shrinkage)     1.853     3696.712\n",
      "Enrichment (w/ shrinkage)     0.000       1.000\n",
      "\n",
      "\n",
      "## Alternative (coloc) parameterization: p1 = 4.088e-04, p2 = 1.476e-06, p12 = 6.038e-10\n",
      "\n",
      "\n",
      "==> /restricted/projectnb/casa/oaolayin/fastenloc_test/kunkle_DLPFC.enloc.gene.out <==\n",
      "Gene\t\tGRCP\tGLCP\n",
      "ENSG00000000457\t\t2.250e-03\t9.590e-02\n",
      "ENSG00000000971\t\t0.000e+00\t0.000e+00\n",
      "ENSG00000001084\t\t5.420e-05\t6.338e-04\n",
      "ENSG00000001167\t\t4.646e-04\t1.021e-02\n",
      "ENSG00000001460\t\t0.000e+00\t0.000e+00\n",
      "ENSG00000001461\t\t0.000e+00\t0.000e+00\n",
      "ENSG00000001561\t\t2.034e-04\t2.624e-03\n",
      "ENSG00000001626\t\t0.000e+00\t0.000e+00\n",
      "ENSG00000001629\t\t1.429e-03\t5.209e-02\n",
      "ENSG00000001630\t\t1.794e-03\t1.040e-01\n",
      "ENSG00000002016\t\t0.000e+00\t0.000e+00\n",
      "ENSG00000002745\t\t5.529e-04\t1.674e-03\n",
      "ENSG00000002822\t\t2.165e-03\t2.726e-02\n",
      "ENSG00000002834\t\t5.972e-04\t5.972e-04\n",
      "ENSG00000002933\t\t0.000e+00\t0.000e+00\n",
      "\n",
      "==> /restricted/projectnb/casa/oaolayin/fastenloc_test/kunkle_DLPFC.enloc.sig.out <==\n",
      "Signal\tNum_SNP\tCPIP_qtl\tCPIP_gwas_marginal\tCPIP_gwas_qtl_prior\tRCP\tLCP\n",
      "ENSG00000000457:1(@)chr1_168438717_170228106     93  9.507e-01 9.243e-02    9.243e-02      9.494e-04\t8.787e-02\n",
      "ENSG00000000457:2(@)chr1_168438717_170228106      7  9.580e-01 9.184e-03    9.184e-03      1.302e-03\t8.798e-03\n",
      "ENSG00000001084:1(@)chr6_52730905_54027603     12  9.779e-01 6.482e-04    6.482e-04      5.420e-05\t6.338e-04\n",
      "ENSG00000001167:1(@)chr6_40377803_42070711     23  9.816e-01 1.040e-02    1.040e-02      4.646e-04\t1.021e-02\n",
      "ENSG00000001561:1(@)chr6_45129743_47741698     13  9.763e-01 2.688e-03    2.688e-03      2.034e-04\t2.624e-03\n",
      "ENSG00000001629:2(@)chr7_91032230_93795104     63  9.722e-01 4.604e-02    4.604e-02      7.931e-04\t4.476e-02\n",
      "ENSG00000001629:1(@)chr7_91032230_93795104     12  9.550e-01 8.038e-03    8.038e-03      6.368e-04\t7.676e-03\n",
      "ENSG00000001630:1(@)chr7_91032230_93795104     92  9.500e-01 1.095e-01    1.095e-01      1.794e-03\t1.040e-01\n",
      "ENSG00000002745:1(@)chr7_118713025_122731183      3  9.663e-01 1.732e-03    1.732e-03      5.529e-04\t1.674e-03\n",
      "ENSG00000002822:3(@)chr7_1196882_2640020     13  9.502e-01 9.223e-03    9.223e-03      6.615e-04\t8.764e-03\n",
      "ENSG00000002822:1(@)chr7_1196882_2640020     11  9.529e-01 8.958e-03    8.958e-03      7.878e-04\t8.536e-03\n",
      "ENSG00000002822:2(@)chr7_1196882_2640020     14  9.628e-01 1.060e-02    1.060e-02      7.170e-04\t1.021e-02\n",
      "ENSG00000002834:1(@)chr17_37727883_40721028      1  9.995e-01 5.975e-04    5.975e-04      5.972e-04\t5.972e-04\n",
      "\n",
      "==> /restricted/projectnb/casa/oaolayin/fastenloc_test/kunkle_DLPFC.enloc.snp.out <==\n",
      "Signal\tSNP\tPIP_qtl\tPIP_gwas_marginal\tPIP_gwas_qtl_prior\tSCP\n",
      "ENSG00000000457:2(@)chr1_168438717_170228106   chr1_169883710_T_C   1.060e-01 1.151e-03    1.151e-03      1.221e-04\n",
      "ENSG00000000457:2(@)chr1_168438717_170228106   chr1_169891058_C_T   1.958e-01 1.365e-03    1.365e-03      2.673e-04\n",
      "ENSG00000000457:2(@)chr1_168438717_170228106   chr1_169892071_T_C   1.569e-01 1.369e-03    1.369e-03      2.149e-04\n",
      "ENSG00000000457:2(@)chr1_168438717_170228106   chr1_169910890_G_T   2.678e-01 1.418e-03    1.418e-03      3.798e-04\n",
      "ENSG00000000457:2(@)chr1_168438717_170228106   chr1_169912320_T_A   1.945e-01 1.412e-03    1.412e-03      2.745e-04\n",
      "ENSG00000001629:1(@)chr7_91032230_93795104   chr7_92356557_A_G   1.751e-01 6.106e-04    6.106e-04      1.069e-04\n",
      "ENSG00000001629:1(@)chr7_91032230_93795104   chr7_92366996_T_C   2.574e-01 6.194e-04    6.194e-04      1.594e-04\n",
      "ENSG00000001629:1(@)chr7_91032230_93795104   chr7_92373841_CTTGT_C   2.023e-01 7.912e-04    7.912e-04      1.600e-04\n",
      "ENSG00000001629:1(@)chr7_91032230_93795104   chr7_92386708_T_C   1.921e-01 6.180e-04    6.180e-04      1.187e-04\n",
      "ENSG00000001630:1(@)chr7_91032230_93795104   chr7_92256559_A_G   6.077e-02 2.197e-03    2.197e-03      1.335e-04\n",
      "ENSG00000001630:1(@)chr7_91032230_93795104   chr7_92260408_G_A   6.077e-02 2.031e-03    2.031e-03      1.234e-04\n",
      "ENSG00000001630:1(@)chr7_91032230_93795104   chr7_92288831_A_G   6.077e-02 2.244e-03    2.244e-03      1.364e-04\n",
      "ENSG00000001630:1(@)chr7_91032230_93795104   chr7_92303352_A_G   6.160e-02 2.018e-03    2.018e-03      1.243e-04\n",
      "ENSG00000001630:1(@)chr7_91032230_93795104   chr7_92322528_C_A   7.281e-02 2.103e-03    2.103e-03      1.531e-04\n",
      "ENSG00000001630:1(@)chr7_91032230_93795104   chr7_92347912_G_A   5.151e-02 2.104e-03    2.104e-03      1.084e-04\n",
      "ENSG00000001630:1(@)chr7_91032230_93795104   chr7_92358388_T_C   6.077e-02 2.136e-03    2.136e-03      1.298e-04\n",
      "ENSG00000001630:1(@)chr7_91032230_93795104   chr7_92369341_A_C   6.077e-02 2.133e-03    2.133e-03      1.296e-04\n",
      "ENSG00000001630:1(@)chr7_91032230_93795104   chr7_92378906_A_G   6.077e-02 2.148e-03    2.148e-03      1.305e-04\n",
      "ENSG00000001630:1(@)chr7_91032230_93795104   chr7_92397873_A_G   6.782e-02 2.046e-03    2.046e-03      1.388e-04\n",
      "ENSG00000001630:1(@)chr7_91032230_93795104   chr7_92399988_G_A   6.077e-02 2.277e-03    2.277e-03      1.384e-04\n",
      "ENSG00000002745:1(@)chr7_118713025_122731183   chr7_121255331_T_C   3.638e-01 5.761e-04    5.761e-04      2.096e-04\n",
      "ENSG00000002745:1(@)chr7_118713025_122731183   chr7_121267661_C_G   4.735e-01 5.636e-04    5.636e-04      2.669e-04\n",
      "ENSG00000002822:3(@)chr7_1196882_2640020   chr7_1886454_A_G   2.086e-01 7.016e-04    7.016e-04      1.464e-04\n",
      "ENSG00000002822:3(@)chr7_1196882_2640020   chr7_1886941_T_C   2.087e-01 6.957e-04    6.957e-04      1.452e-04\n",
      "ENSG00000002822:3(@)chr7_1196882_2640020   chr7_1887109_G_A   1.984e-01 6.941e-04    6.941e-04      1.377e-04\n",
      "ENSG00000002822:1(@)chr7_1196882_2640020   chr7_2193822_G_A   5.997e-01 8.381e-04    8.381e-04      5.026e-04\n",
      "ENSG00000002822:2(@)chr7_1196882_2640020   chr7_2189069_G_C   2.554e-01 7.192e-04    7.192e-04      1.836e-04\n",
      "ENSG00000002822:2(@)chr7_1196882_2640020   chr7_2197563_C_G   1.538e-01 7.529e-04    7.529e-04      1.158e-04\n",
      "ENSG00000002822:2(@)chr7_1196882_2640020   chr7_2200459_C_T   1.399e-01 7.437e-04    7.437e-04      1.041e-04\n",
      "ENSG00000002834:1(@)chr17_37727883_40721028   chr17_38880301_G_A   9.995e-01 5.975e-04    5.975e-04      5.972e-04\n"
     ]
    }
   ],
   "source": [
    "head -n 100 /restricted/projectnb/casa/oaolayin/fastenloc_test/kunkle_DLPFC*"
   ]
  }
 ],
 "metadata": {
  "kernelspec": {
   "display_name": "SoS",
   "language": "sos",
   "name": "sos"
  },
  "language_info": {
   "codemirror_mode": "sos",
   "file_extension": ".sos",
   "mimetype": "text/x-sos",
   "name": "sos",
   "nbconvert_exporter": "sos_notebook.converter.SoS_Exporter",
   "pygments_lexer": "sos"
  },
  "sos": {
   "kernels": [
    [
     "Bash",
     "bash",
     "Bash",
     "#E6EEFF",
     "shell"
    ],
    [
     "SoS",
     "sos",
     "",
     "",
     "sos"
    ]
   ],
   "panel": {
    "displayed": true,
    "height": 0
   },
   "version": "0.22.4"
  }
 },
 "nbformat": 4,
 "nbformat_minor": 4
}
